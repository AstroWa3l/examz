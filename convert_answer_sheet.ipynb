{
 "cells": [
  {
   "cell_type": "code",
   "execution_count": 4,
   "metadata": {},
   "outputs": [],
   "source": [
    "import fitz  # PyMuPDF\n",
    "\n",
    "def extract_answers_from_pdf(pdf_path):\n",
    "    document = fitz.open(pdf_path)\n",
    "    answers = []\n",
    "    question_number = 1\n",
    "    \n",
    "    for page_num in range(document.page_count):\n",
    "        page = document.load_page(page_num)\n",
    "        text = page.get_text(\"text\")\n",
    "        lines = text.split('\\n')\n",
    "        \n",
    "        for line in lines:\n",
    "            line = line.strip()\n",
    "            if line.startswith(\"B\") and \".\" in line:\n",
    "                parts = line.split(\".\")\n",
    "                # Use the global question number instead of the one in the PDF\n",
    "                answer = parts[1].strip()\n",
    "                answers.append((question_number, answer))\n",
    "                question_number += 1\n",
    "    \n",
    "    return answers\n",
    "\n",
    "def write_markdown(answers, md_path):\n",
    "    with open(md_path, 'w') as md_file:\n",
    "        md_file.write(\"# Answers\\n\")\n",
    "        for question_number, answer in answers:\n",
    "            md_file.write(f\"{question_number}: {answer}\\n\")\n",
    "\n",
    "pdf_path = 'answers_2.pdf'\n",
    "md_path = 'answers_2.md'\n",
    "\n",
    "answers = extract_answers_from_pdf(pdf_path)\n",
    "write_markdown(answers, md_path)\n"
   ]
  }
 ],
 "metadata": {
  "kernelspec": {
   "display_name": "Python 3",
   "language": "python",
   "name": "python3"
  },
  "language_info": {
   "codemirror_mode": {
    "name": "ipython",
    "version": 3
   },
   "file_extension": ".py",
   "mimetype": "text/x-python",
   "name": "python",
   "nbconvert_exporter": "python",
   "pygments_lexer": "ipython3",
   "version": "3.11.6"
  }
 },
 "nbformat": 4,
 "nbformat_minor": 2
}
